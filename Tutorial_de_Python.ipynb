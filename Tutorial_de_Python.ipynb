{
  "nbformat": 4,
  "nbformat_minor": 0,
  "metadata": {
    "colab": {
      "provenance": [],
      "include_colab_link": true
    },
    "kernelspec": {
      "name": "python3",
      "display_name": "Python 3"
    },
    "language_info": {
      "name": "python"
    }
  },
  "cells": [
    {
      "cell_type": "markdown",
      "metadata": {
        "id": "view-in-github",
        "colab_type": "text"
      },
      "source": [
        "<a href=\"https://colab.research.google.com/github/JOSELUISMILLA/NET8APIDEMO/blob/main/Tutorial_de_Python.ipynb\" target=\"_parent\"><img src=\"https://colab.research.google.com/assets/colab-badge.svg\" alt=\"Open In Colab\"/></a>"
      ]
    },
    {
      "cell_type": "markdown",
      "source": [
        "# Breve tutorial de Python para Ciencia de Datos\n",
        "\n",
        "> Bloque con sangría\n",
        "\n",
        "\n",
        "\n",
        "Cuaderno de PhD. (c) Ricardo Alonzo Fernández Salguero"
      ],
      "metadata": {
        "id": "oYx-2UVoPYag"
      }
    },
    {
      "cell_type": "markdown",
      "source": [
        "/content/file_12.csv"
      ],
      "metadata": {
        "id": "86ca0y3kTEFr"
      }
    },
    {
      "cell_type": "code",
      "source": [
        "nombre = \"Juan\"\n",
        "edad = 25\n",
        "altura = 1.75"
      ],
      "metadata": {
        "id": "4V5CXbtXUcnN"
      },
      "execution_count": null,
      "outputs": []
    },
    {
      "cell_type": "code",
      "source": [
        "edad = 18\n",
        "\n",
        "if edad >= 18:\n",
        "    print(\"Eres mayor de edad\")\n",
        "else:\n",
        "    print(\"Eres menor de edad\")"
      ],
      "metadata": {
        "colab": {
          "base_uri": "https://localhost:8080/"
        },
        "id": "LODFf6vEUxDv",
        "outputId": "3bba7a1f-96df-4d56-d933-de2cc0b1b173"
      },
      "execution_count": null,
      "outputs": [
        {
          "output_type": "stream",
          "name": "stdout",
          "text": [
            "Eres mayor de edad\n"
          ]
        }
      ]
    },
    {
      "cell_type": "code",
      "source": [
        "# Bucle for\n",
        "for i in range(5):\n",
        "    print(i)"
      ],
      "metadata": {
        "colab": {
          "base_uri": "https://localhost:8080/"
        },
        "id": "m_hnBAJIVQAF",
        "outputId": "91566a05-f68e-457f-c5b6-ad02b8843ebb"
      },
      "execution_count": null,
      "outputs": [
        {
          "output_type": "stream",
          "name": "stdout",
          "text": [
            "0\n",
            "1\n",
            "2\n",
            "3\n",
            "4\n"
          ]
        }
      ]
    },
    {
      "cell_type": "code",
      "source": [
        "# Bucle while\n",
        "contador = 0\n",
        "while contador < 5:\n",
        "    print(contador)\n",
        "    contador += 1"
      ],
      "metadata": {
        "colab": {
          "base_uri": "https://localhost:8080/"
        },
        "id": "8hQ4baJtV-vB",
        "outputId": "fd37e4be-bddd-45c2-9a58-11f7fba7bf27"
      },
      "execution_count": null,
      "outputs": [
        {
          "output_type": "stream",
          "name": "stdout",
          "text": [
            "0\n",
            "1\n",
            "2\n",
            "3\n",
            "4\n"
          ]
        }
      ]
    },
    {
      "cell_type": "code",
      "source": [
        "def saludar(nombre):\n",
        "    print(f\"Hola, {nombre}!\")\n",
        "\n",
        "saludar(\"Ana\")"
      ],
      "metadata": {
        "colab": {
          "base_uri": "https://localhost:8080/"
        },
        "id": "DdbxVRs4XnmL",
        "outputId": "6c547d82-4084-4d36-908c-d12f3b6b3050"
      },
      "execution_count": null,
      "outputs": [
        {
          "output_type": "stream",
          "name": "stdout",
          "text": [
            "Hola, Ana!\n"
          ]
        }
      ]
    },
    {
      "cell_type": "code",
      "source": [
        "saludar(\"Roberto\")"
      ],
      "metadata": {
        "colab": {
          "base_uri": "https://localhost:8080/"
        },
        "id": "gE0jg71_XpeG",
        "outputId": "a0fb84cd-f519-4b91-a611-d853fc9fc838"
      },
      "execution_count": null,
      "outputs": [
        {
          "output_type": "stream",
          "name": "stdout",
          "text": [
            "Hola, Roberto!\n"
          ]
        }
      ]
    },
    {
      "cell_type": "code",
      "source": [
        "frutas = [\"manzana\", \"banana\", \"naranja\"]\n",
        "print(frutas[0])  # Imprime \"manzana\""
      ],
      "metadata": {
        "colab": {
          "base_uri": "https://localhost:8080/"
        },
        "id": "HdTP4ByCYjcZ",
        "outputId": "268e14ce-3699-4db4-e154-058b2167a288"
      },
      "execution_count": null,
      "outputs": [
        {
          "output_type": "stream",
          "name": "stdout",
          "text": [
            "manzana\n"
          ]
        }
      ]
    },
    {
      "cell_type": "markdown",
      "source": [
        "# Lógica de programación en Python\n",
        "## 1. Variables\n",
        "Las variables son contenedores que almacenan datos en la memoria para su posterior uso en un programa. En Python, no es necesario declarar explícitamente el tipo de variable, ya que el tipo se infiere automáticamente según el valor asignado.\n",
        "\n",
        "```python\n",
        "nombre = \"Juan\"\n",
        "edad = 25\n",
        "altura = 1.75\n",
        "```\n",
        "\n",
        "En este ejemplo, hemos creado tres variables: `nombre`, `edad` y `altura`. `nombre` almacena una cadena de caracteres (string), `edad` almacena un número entero (integer) y `altura` almacena un número de punto flotante (float).\n",
        "\n",
        "## 2. Condicionales\n",
        "Las estructuras condicionales permiten al programa tomar decisiones y ejecutar diferentes partes de código en función de una condición específica. El ejemplo más común es el uso del condicional `if`.\n",
        "\n",
        "```python\n",
        "edad = 18\n",
        "\n",
        "if edad >= 18:\n",
        "    print(\"Eres mayor de edad\")\n",
        "else:\n",
        "    print(\"Eres menor de edad\")\n",
        "```\n",
        "\n",
        "En este caso, si la variable `edad` es mayor o igual a 18, se imprimirá \"Eres mayor de edad\", de lo contrario, se imprimirá \"Eres menor de edad\".\n",
        "\n",
        "## 3. Bucles\n",
        "Los bucles permiten ejecutar un bloque de código varias veces. Los bucles `for` y `while` son los más utilizados en Python.\n",
        "\n",
        "```python\n",
        "# Bucle for\n",
        "for i in range(5):\n",
        "    print(i)\n",
        "\n",
        "# Bucle while\n",
        "contador = 0\n",
        "while contador < 5:\n",
        "    print(contador)\n",
        "    contador += 1\n",
        "```\n",
        "\n",
        "El bucle `for` itera a través de una secuencia (en este caso, un rango de números del 0 al 4) y ejecuta el bloque de código para cada valor en la secuencia. El bucle `while` ejecuta el bloque de código mientras se cumpla una condición (en este caso, mientras `contador` sea menor que 5).\n",
        "\n",
        "## 4. Funciones\n",
        "Las funciones son bloques de código reutilizables que pueden aceptar parámetros de entrada y devolver un resultado. Ayudan a modularizar el código y a hacerlo más organizado y mantenible.\n",
        "\n",
        "```python\n",
        "def saludar(nombre):\n",
        "    print(f\"Hola, {nombre}!\")\n",
        "\n",
        "saludar(\"Ana\")\n",
        "```\n",
        "\n",
        "En este ejemplo, hemos definido una función llamada `saludar` que toma un parámetro `nombre` y muestra un saludo personalizado utilizando ese nombre.\n",
        "\n",
        "## 5. Listas\n",
        "Las listas son colecciones ordenadas de elementos que pueden contener diferentes tipos de datos. Los elementos de la lista están indexados, comenzando desde 0.\n",
        "\n",
        "```python\n",
        "frutas = [\"manzana\", \"banana\", \"naranja\"]\n",
        "print(frutas[0])  # Imprime \"manzana\"\n",
        "```\n",
        "\n",
        "En este caso, `frutas` es una lista que contiene tres cadenas de caracteres. Podemos acceder a los elementos de la lista utilizando índices. La indexación comienza desde 0, por lo que `frutas[0]` devuelve el primer elemento de la lista.\n",
        "\n",
        "## 6. Diccionarios\n",
        "Los diccionarios son estructuras que almacenan pares de clave-valor. Cada valor está asociado con una clave única, lo que permite un acceso rápido y eficiente a los datos.\n",
        "\n",
        "```python\n",
        "persona = {\"nombre\": \"Luis\", \"edad\": 30, \"ocupacion\": \"ingeniero\"}\n",
        "print(persona[\"edad\"])  # Imprime 30\n",
        "```\n",
        "\n",
        "En este ejemplo, `persona` es un diccionario que almacena información sobre una persona. Podemos acceder a los valores utilizando las claves correspondientes, como `persona[\"edad\"]`.\n",
        "\n"
      ],
      "metadata": {
        "id": "ux_7j4ZXPS2e"
      }
    },
    {
      "cell_type": "code",
      "source": [
        "persona = {\"nombre\": \"Luis\", \"edad\": 30, \"ocupacion\": \"ingeniero\"}\n",
        "print(persona[\"edad\"])  # Imprime 30"
      ],
      "metadata": {
        "colab": {
          "base_uri": "https://localhost:8080/"
        },
        "id": "VICFFHuoYpAU",
        "outputId": "f2c88e1f-9a1d-4925-94ab-43b857c29256"
      },
      "execution_count": null,
      "outputs": [
        {
          "output_type": "stream",
          "name": "stdout",
          "text": [
            "30\n"
          ]
        }
      ]
    },
    {
      "cell_type": "markdown",
      "source": [
        "# Tutorial de Lógica de Programación para Ciencia de Datos en Python\n",
        "\n",
        "Python es ampliamente utilizado en ciencia de datos debido a su versatilidad y las bibliotecas poderosas disponibles. En este tutorial, exploraremos cómo aplicar conceptos de programación en Python para tareas de ciencia de datos.\n",
        "\n",
        "## Creación de Datos\n",
        "### Explicación sobre la creación de datos simulados\n",
        "Comencemos generando datos simulados. En este caso, crearemos una lista de edades de personas:\n",
        "\n",
        "```python\n",
        "# Creación de la lista de edades\n",
        "edades = [25, 30, 22, 40, 28, 32, 37, 21, 29, 33]\n",
        "```\n",
        "\n",
        "## Manipulación de Listas\n",
        "### Sección que trata sobre la manipulación de la lista de edades\n",
        "Trabajaremos con la lista de edades para obtener información útil:\n",
        "\n",
        "```python\n",
        "# Calcular la cantidad de personas en la lista\n",
        "cantidad_personas = len(edades)  # Obtiene la longitud de la lista\n",
        "print(\"Cantidad de personas:\", cantidad_personas)\n",
        "\n",
        "# Calcular la suma de todas las edades\n",
        "suma_edades = sum(edades)  # Calcula la suma de todos los elementos en la lista\n",
        "\n",
        "# Calcular la edad promedio\n",
        "edad_promedio = suma_edades / cantidad_personas  # Calcula el promedio\n",
        "print(\"Edad promedio:\", edad_promedio)\n",
        "\n",
        "# Encontrar la edad máxima y mínima\n",
        "edad_maxima = max(edades)  # Obtiene el valor máximo en la lista\n",
        "edad_minima = min(edades)  # Obtiene el valor mínimo en la lista\n",
        "print(\"Edad máxima:\", edad_maxima)\n",
        "print(\"Edad mínima:\", edad_minima)\n",
        "```\n",
        "\n",
        "## Visualización Simple\n",
        "### Utilización de la biblioteca matplotlib para visualización de datos\n",
        "Utilizaremos la biblioteca matplotlib para crear un gráfico de barras de las edades:\n",
        "\n",
        "```python\n",
        "import matplotlib.pyplot as plt  # Importa la biblioteca de visualización\n",
        "\n",
        "# Crear un gráfico de barras de las edades\n",
        "plt.bar(range(cantidad_personas), edades)  # Crea un gráfico de barras con los índices como posición x y las edades como altura de las barras\n",
        "plt.xlabel(\"Personas\")  # Etiqueta del eje x\n",
        "plt.ylabel(\"Edad\")  # Etiqueta del eje y\n",
        "plt.title(\"Edades de Personas\")  # Título del gráfico\n",
        "plt.show()  # Muestra el gráfico\n",
        "```\n",
        "\n"
      ],
      "metadata": {
        "id": "boN1WHRaQUt0"
      }
    },
    {
      "cell_type": "code",
      "source": [
        "# Creación de la lista de edades\n",
        "edades = [25, 30, 22, 40, 28, 32, 37, 21, 29, 33]"
      ],
      "metadata": {
        "id": "SpiohUgT7pwe"
      },
      "execution_count": null,
      "outputs": []
    },
    {
      "cell_type": "code",
      "source": [
        "# Calcular la cantidad de personas en la lista\n",
        "cantidad_personas = len(edades)  # Obtiene la longitud de la lista\n",
        "print(\"Cantidad de personas:\", cantidad_personas)\n",
        "\n",
        "# Calcular la suma de todas las edades\n",
        "suma_edades = sum(edades)  # Calcula la suma de todos los elementos en la lista\n",
        "print(\"Suma de edades:\", suma_edades)\n",
        "\n",
        "# Calcular la edad promedio\n",
        "edad_promedio = suma_edades / cantidad_personas  # Calcula el promedio\n",
        "print(\"Edad promedio:\", edad_promedio)\n",
        "\n",
        "# Encontrar la edad máxima y mínima\n",
        "edad_maxima = max(edades)  # Obtiene el valor máximo en la lista\n",
        "edad_minima = min(edades)  # Obtiene el valor mínimo en la lista\n",
        "print(\"Edad máxima:\", edad_maxima)\n",
        "print(\"Edad mínima:\", edad_minima)"
      ],
      "metadata": {
        "colab": {
          "base_uri": "https://localhost:8080/"
        },
        "id": "OEHv0DkR70QX",
        "outputId": "beed4d99-eac9-45a4-b466-215409a8ebf3"
      },
      "execution_count": null,
      "outputs": [
        {
          "output_type": "stream",
          "name": "stdout",
          "text": [
            "Cantidad de personas: 10\n",
            "Suma de edades: 297\n",
            "Edad promedio: 29.7\n",
            "Edad máxima: 40\n",
            "Edad mínima: 21\n"
          ]
        }
      ]
    },
    {
      "cell_type": "code",
      "source": [
        "pip install matplotlib"
      ],
      "metadata": {
        "colab": {
          "base_uri": "https://localhost:8080/"
        },
        "id": "Y2WW1LD0agw5",
        "outputId": "6a4278f9-f304-4f8c-9c54-ba736fcf7c3d"
      },
      "execution_count": null,
      "outputs": [
        {
          "output_type": "stream",
          "name": "stdout",
          "text": [
            "Requirement already satisfied: matplotlib in /usr/local/lib/python3.10/dist-packages (3.7.1)\n",
            "Requirement already satisfied: contourpy>=1.0.1 in /usr/local/lib/python3.10/dist-packages (from matplotlib) (1.3.0)\n",
            "Requirement already satisfied: cycler>=0.10 in /usr/local/lib/python3.10/dist-packages (from matplotlib) (0.12.1)\n",
            "Requirement already satisfied: fonttools>=4.22.0 in /usr/local/lib/python3.10/dist-packages (from matplotlib) (4.53.1)\n",
            "Requirement already satisfied: kiwisolver>=1.0.1 in /usr/local/lib/python3.10/dist-packages (from matplotlib) (1.4.5)\n",
            "Requirement already satisfied: numpy>=1.20 in /usr/local/lib/python3.10/dist-packages (from matplotlib) (1.26.4)\n",
            "Requirement already satisfied: packaging>=20.0 in /usr/local/lib/python3.10/dist-packages (from matplotlib) (24.1)\n",
            "Requirement already satisfied: pillow>=6.2.0 in /usr/local/lib/python3.10/dist-packages (from matplotlib) (9.4.0)\n",
            "Requirement already satisfied: pyparsing>=2.3.1 in /usr/local/lib/python3.10/dist-packages (from matplotlib) (3.1.4)\n",
            "Requirement already satisfied: python-dateutil>=2.7 in /usr/local/lib/python3.10/dist-packages (from matplotlib) (2.8.2)\n",
            "Requirement already satisfied: six>=1.5 in /usr/local/lib/python3.10/dist-packages (from python-dateutil>=2.7->matplotlib) (1.16.0)\n"
          ]
        }
      ]
    },
    {
      "cell_type": "code",
      "source": [
        "import matplotlib.pyplot as plt  # Importa la biblioteca de visualización\n",
        "\n",
        "# Crear un gráfico de barras de las edades\n",
        "plt.bar(range(cantidad_personas), edades)  # Crea un gráfico de barras con los índices como posición x y las edades como altura de las barras\n",
        "plt.xlabel(\"Personas\")  # Etiqueta del eje x\n",
        "plt.ylabel(\"Edad\")  # Etiqueta del eje y\n",
        "plt.title(\"Edades de Personas\")  # Título del gráfico\n",
        "plt.show()  # Muestra el gráfico"
      ],
      "metadata": {
        "id": "wdDMsQ2t8JO1",
        "outputId": "74db71f9-1ea6-4b3d-81a0-73391f6a06e2",
        "colab": {
          "base_uri": "https://localhost:8080/",
          "height": 472
        }
      },
      "execution_count": null,
      "outputs": [
        {
          "output_type": "display_data",
          "data": {
            "text/plain": [
              "<Figure size 640x480 with 1 Axes>"
            ],
            "image/png": "[encoded data removed]"
          },
          "metadata": {}
        }
      ]
    },
    {
      "cell_type": "code",
      "source": [
        "import pandas as pd\n",
        "import seaborn as sns\n",
        "import matplotlib.pyplot as plt\n",
        "\n",
        "# Crear un DataFrame de ejemplo\n",
        "data = {'Año': [2015, 2016, 2017, 2018, 2019],\n",
        "        'Ventas': [100, 150, 120, 200, 180]}\n",
        "\n",
        "df = pd.DataFrame(data)\n",
        "\n",
        "# Crear un gráfico de línea con Seaborn\n",
        "sns.lineplot(data=df, x='Año', y='Ventas')\n",
        "\n",
        "# Guardar el gráfico como una imagen JPEG, PNG o SVG\n",
        "plt.savefig('grafico_de_linea.svg')\n",
        "\n",
        "# Mostrar el gráfico\n",
        "plt.show()"
      ],
      "metadata": {
        "colab": {
          "base_uri": "https://localhost:8080/",
          "height": 449
        },
        "id": "gsW9I9IGc_qv",
        "outputId": "b6e13243-9ca4-4a5c-d719-1f6e15a8446d"
      },
      "execution_count": null,
      "outputs": [
        {
          "output_type": "display_data",
          "data": {
            "text/plain": [
              "<Figure size 640x480 with 1 Axes>"
            ],
            "image/png": "[encoded data removed]"
          },
          "metadata": {}
        }
      ]
    },
    {
      "cell_type": "code",
      "source": [
        "import pandas as pd\n",
        "\n",
        "# Crear un DataFrame de ejemplo\n",
        "data = {'Nombre': ['Alice', 'Bob', 'Charlie'],\n",
        "        'Edad': [25, 30, 35]}\n",
        "\n",
        "df = pd.DataFrame(data)\n",
        "\n",
        "# Guardar el DataFrame en un archivo de Excel\n",
        "df.to_excel('datos.xlsx', index=False)"
      ],
      "metadata": {
        "id": "f7-xnIeldbgR"
      },
      "execution_count": null,
      "outputs": []
    },
    {
      "cell_type": "code",
      "source": [
        "import pandas as pd\n",
        "import numpy as np\n",
        "\n",
        "\n",
        "# Carga el archivo CSV en un DataFrame de Pandas\n",
        "dataset = pd.read_csv('/content/file_12.csv')"
      ],
      "metadata": {
        "id": "po67x-Fldt39"
      },
      "execution_count": null,
      "outputs": []
    },
    {
      "cell_type": "code",
      "source": [
        "dataset"
      ],
      "metadata": {
        "id": "5QiAdPGneFRz",
        "outputId": "0a7553aa-8110-4af2-de29-4448d2713f5a",
        "colab": {
          "base_uri": "https://localhost:8080/",
          "height": 363
        }
      },
      "execution_count": null,
      "outputs": [
        {
          "output_type": "execute_result",
          "data": {
            "text/plain": [
              "                    timestamp  temperature\n",
              "0  2023-12-20 01:22:47.717460           58\n",
              "1  2023-12-20 01:22:47.717558           55\n",
              "2  2023-12-20 01:22:47.717567           57\n",
              "3  2023-12-20 01:22:47.717572           60\n",
              "4  2023-12-20 01:22:47.717577           59\n",
              "5  2023-12-20 01:22:47.717582           52\n",
              "6  2023-12-20 01:22:47.717587           52\n",
              "7  2023-12-20 01:22:47.717591           60\n",
              "8  2023-12-20 01:22:47.717595           57\n",
              "9  2023-12-20 01:22:47.717599           60"
            ],
            "text/html": [
              "\n",
              "  <div id=\"df-3c4cb929-49d7-43b0-b5bf-0d1437194f23\" class=\"colab-df-container\">\n",
              "    <div>\n",
              "<style scoped>\n",
              "    .dataframe tbody tr th:only-of-type {\n",
              "        vertical-align: middle;\n",
              "    }\n",
              "\n",
              "    .dataframe tbody tr th {\n",
              "        vertical-align: top;\n",
              "    }\n",
              "\n",
              "    .dataframe thead th {\n",
              "        text-align: right;\n",
              "    }\n",
              "</style>\n",
              "<table border=\"1\" class=\"dataframe\">\n",
              "  <thead>\n",
              "    <tr style=\"text-align: right;\">\n",
              "      <th></th>\n",
              "      <th>timestamp</th>\n",
              "      <th>temperature</th>\n",
              "    </tr>\n",
              "  </thead>\n",
              "  <tbody>\n",
              "    <tr>\n",
              "      <th>0</th>\n",
              "      <td>2023-12-20 01:22:47.717460</td>\n",
              "      <td>58</td>\n",
              "    </tr>\n",
              "    <tr>\n",
              "      <th>1</th>\n",
              "      <td>2023-12-20 01:22:47.717558</td>\n",
              "      <td>55</td>\n",
              "    </tr>\n",
              "    <tr>\n",
              "      <th>2</th>\n",
              "      <td>2023-12-20 01:22:47.717567</td>\n",
              "      <td>57</td>\n",
              "    </tr>\n",
              "    <tr>\n",
              "      <th>3</th>\n",
              "      <td>2023-12-20 01:22:47.717572</td>\n",
              "      <td>60</td>\n",
              "    </tr>\n",
              "    <tr>\n",
              "      <th>4</th>\n",
              "      <td>2023-12-20 01:22:47.717577</td>\n",
              "      <td>59</td>\n",
              "    </tr>\n",
              "    <tr>\n",
              "      <th>5</th>\n",
              "      <td>2023-12-20 01:22:47.717582</td>\n",
              "      <td>52</td>\n",
              "    </tr>\n",
              "    <tr>\n",
              "      <th>6</th>\n",
              "      <td>2023-12-20 01:22:47.717587</td>\n",
              "      <td>52</td>\n",
              "    </tr>\n",
              "    <tr>\n",
              "      <th>7</th>\n",
              "      <td>2023-12-20 01:22:47.717591</td>\n",
              "      <td>60</td>\n",
              "    </tr>\n",
              "    <tr>\n",
              "      <th>8</th>\n",
              "      <td>2023-12-20 01:22:47.717595</td>\n",
              "      <td>57</td>\n",
              "    </tr>\n",
              "    <tr>\n",
              "      <th>9</th>\n",
              "      <td>2023-12-20 01:22:47.717599</td>\n",
              "      <td>60</td>\n",
              "    </tr>\n",
              "  </tbody>\n",
              "</table>\n",
              "</div>\n",
              "    <div class=\"colab-df-buttons\">\n",
              "\n",
              "  <div class=\"colab-df-container\">\n",
              "    <button class=\"colab-df-convert\" onclick=\"convertToInteractive('df-3c4cb929-49d7-43b0-b5bf-0d1437194f23')\"\n",
              "            title=\"Convert this dataframe to an interactive table.\"\n",
              "            style=\"display:none;\">\n",
              "\n",
              "  <svg xmlns=\"http://www.w3.org/2000/svg\" height=\"24px\" viewBox=\"0 -960 960 960\">\n",
              "    <path d=\"M120-120v-720h720v720H120Zm60-500h600v-160H180v160Zm220 220h160v-160H400v160Zm0 220h160v-160H400v160ZM180-400h160v-160H180v160Zm440 0h160v-160H620v160ZM180-180h160v-160H180v160Zm440 0h160v-160H620v160Z\"/>\n",
              "  </svg>\n",
              "    </button>\n",
              "\n",
              "  <style>\n",
              "    .colab-df-container {\n",
              "      display:flex;\n",
              "      gap: 12px;\n",
              "    }\n",
              "\n",
              "    .colab-df-convert {\n",
              "      background-color: #E8F0FE;\n",
              "      border: none;\n",
              "      border-radius: 50%;\n",
              "      cursor: pointer;\n",
              "      display: none;\n",
              "      fill: #1967D2;\n",
              "      height: 32px;\n",
              "      padding: 0 0 0 0;\n",
              "      width: 32px;\n",
              "    }\n",
              "\n",
              "    .colab-df-convert:hover {\n",
              "      background-color: #E2EBFA;\n",
              "      box-shadow: 0px 1px 2px rgba(60, 64, 67, 0.3), 0px 1px 3px 1px rgba(60, 64, 67, 0.15);\n",
              "      fill: #174EA6;\n",
              "    }\n",
              "\n",
              "    .colab-df-buttons div {\n",
              "      margin-bottom: 4px;\n",
              "    }\n",
              "\n",
              "    [theme=dark] .colab-df-convert {\n",
              "      background-color: #3B4455;\n",
              "      fill: #D2E3FC;\n",
              "    }\n",
              "\n",
              "    [theme=dark] .colab-df-convert:hover {\n",
              "      background-color: #434B5C;\n",
              "      box-shadow: 0px 1px 3px 1px rgba(0, 0, 0, 0.15);\n",
              "      filter: drop-shadow(0px 1px 2px rgba(0, 0, 0, 0.3));\n",
              "      fill: #FFFFFF;\n",
              "    }\n",
              "  </style>\n",
              "\n",
              "    <script>\n",
              "      const buttonEl =\n",
              "        document.querySelector('#df-3c4cb929-49d7-43b0-b5bf-0d1437194f23 button.colab-df-convert');\n",
              "      buttonEl.style.display =\n",
              "        google.colab.kernel.accessAllowed ? 'block' : 'none';\n",
              "\n",
              "      async function convertToInteractive(key) {\n",
              "        const element = document.querySelector('#df-3c4cb929-49d7-43b0-b5bf-0d1437194f23');\n",
              "        const dataTable =\n",
              "          await google.colab.kernel.invokeFunction('convertToInteractive',\n",
              "                                                    [key], {});\n",
              "        if (!dataTable) return;\n",
              "\n",
              "        const docLinkHtml = 'Like what you see? Visit the ' +\n",
              "          '<a target=\"_blank\" href=https://colab.research.google.com/notebooks/data_table.ipynb>data table notebook</a>'\n",
              "          + ' to learn more about interactive tables.';\n",
              "        element.innerHTML = '';\n",
              "        dataTable['output_type'] = 'display_data';\n",
              "        await google.colab.output.renderOutput(dataTable, element);\n",
              "        const docLink = document.createElement('div');\n",
              "        docLink.innerHTML = docLinkHtml;\n",
              "        element.appendChild(docLink);\n",
              "      }\n",
              "    </script>\n",
              "  </div>\n",
              "\n",
              "\n",
              "<div id=\"df-4bc1079a-34bf-4b3f-8f77-d3a9496d37ee\">\n",
              "  <button class=\"colab-df-quickchart\" onclick=\"quickchart('df-4bc1079a-34bf-4b3f-8f77-d3a9496d37ee')\"\n",
              "            title=\"Suggest charts\"\n",
              "            style=\"display:none;\">\n",
              "\n",
              "<svg xmlns=\"http://www.w3.org/2000/svg\" height=\"24px\"viewBox=\"0 0 24 24\"\n",
              "     width=\"24px\">\n",
              "    <g>\n",
              "        <path d=\"M19 3H5c-1.1 0-2 .9-2 2v14c0 1.1.9 2 2 2h14c1.1 0 2-.9 2-2V5c0-1.1-.9-2-2-2zM9 17H7v-7h2v7zm4 0h-2V7h2v10zm4 0h-2v-4h2v4z\"/>\n",
              "    </g>\n",
              "</svg>\n",
              "  </button>\n",
              "\n",
              "<style>\n",
              "  .colab-df-quickchart {\n",
              "      --bg-color: #E8F0FE;\n",
              "      --fill-color: #1967D2;\n",
              "      --hover-bg-color: #E2EBFA;\n",
              "      --hover-fill-color: #174EA6;\n",
              "      --disabled-fill-color: #AAA;\n",
              "      --disabled-bg-color: #DDD;\n",
              "  }\n",
              "\n",
              "  [theme=dark] .colab-df-quickchart {\n",
              "      --bg-color: #3B4455;\n",
              "      --fill-color: #D2E3FC;\n",
              "      --hover-bg-color: #434B5C;\n",
              "      --hover-fill-color: #FFFFFF;\n",
              "      --disabled-bg-color: #3B4455;\n",
              "      --disabled-fill-color: #666;\n",
              "  }\n",
              "\n",
              "  .colab-df-quickchart {\n",
              "    background-color: var(--bg-color);\n",
              "    border: none;\n",
              "    border-radius: 50%;\n",
              "    cursor: pointer;\n",
              "    display: none;\n",
              "    fill: var(--fill-color);\n",
              "    height: 32px;\n",
              "    padding: 0;\n",
              "    width: 32px;\n",
              "  }\n",
              "\n",
              "  .colab-df-quickchart:hover {\n",
              "    background-color: var(--hover-bg-color);\n",
              "    box-shadow: 0 1px 2px rgba(60, 64, 67, 0.3), 0 1px 3px 1px rgba(60, 64, 67, 0.15);\n",
              "    fill: var(--button-hover-fill-color);\n",
              "  }\n",
              "\n",
              "  .colab-df-quickchart-complete:disabled,\n",
              "  .colab-df-quickchart-complete:disabled:hover {\n",
              "    background-color: var(--disabled-bg-color);\n",
              "    fill: var(--disabled-fill-color);\n",
              "    box-shadow: none;\n",
              "  }\n",
              "\n",
              "  .colab-df-spinner {\n",
              "    border: 2px solid var(--fill-color);\n",
              "    border-color: transparent;\n",
              "    border-bottom-color: var(--fill-color);\n",
              "    animation:\n",
              "      spin 1s steps(1) infinite;\n",
              "  }\n",
              "\n",
              "  @keyframes spin {\n",
              "    0% {\n",
              "      border-color: transparent;\n",
              "      border-bottom-color: var(--fill-color);\n",
              "      border-left-color: var(--fill-color);\n",
              "    }\n",
              "    20% {\n",
              "      border-color: transparent;\n",
              "      border-left-color: var(--fill-color);\n",
              "      border-top-color: var(--fill-color);\n",
              "    }\n",
              "    30% {\n",
              "      border-color: transparent;\n",
              "      border-left-color: var(--fill-color);\n",
              "      border-top-color: var(--fill-color);\n",
              "      border-right-color: var(--fill-color);\n",
              "    }\n",
              "    40% {\n",
              "      border-color: transparent;\n",
              "      border-right-color: var(--fill-color);\n",
              "      border-top-color: var(--fill-color);\n",
              "    }\n",
              "    60% {\n",
              "      border-color: transparent;\n",
              "      border-right-color: var(--fill-color);\n",
              "    }\n",
              "    80% {\n",
              "      border-color: transparent;\n",
              "      border-right-color: var(--fill-color);\n",
              "      border-bottom-color: var(--fill-color);\n",
              "    }\n",
              "    90% {\n",
              "      border-color: transparent;\n",
              "      border-bottom-color: var(--fill-color);\n",
              "    }\n",
              "  }\n",
              "</style>\n",
              "\n",
              "  <script>\n",
              "    async function quickchart(key) {\n",
              "      const quickchartButtonEl =\n",
              "        document.querySelector('#' + key + ' button');\n",
              "      quickchartButtonEl.disabled = true;  // To prevent multiple clicks.\n",
              "      quickchartButtonEl.classList.add('colab-df-spinner');\n",
              "      try {\n",
              "        const charts = await google.colab.kernel.invokeFunction(\n",
              "            'suggestCharts', [key], {});\n",
              "      } catch (error) {\n",
              "        console.error('Error during call to suggestCharts:', error);\n",
              "      }\n",
              "      quickchartButtonEl.classList.remove('colab-df-spinner');\n",
              "      quickchartButtonEl.classList.add('colab-df-quickchart-complete');\n",
              "    }\n",
              "    (() => {\n",
              "      let quickchartButtonEl =\n",
              "        document.querySelector('#df-4bc1079a-34bf-4b3f-8f77-d3a9496d37ee button');\n",
              "      quickchartButtonEl.style.display =\n",
              "        google.colab.kernel.accessAllowed ? 'block' : 'none';\n",
              "    })();\n",
              "  </script>\n",
              "</div>\n",
              "\n",
              "  <div id=\"id_43b587ba-49d1-456e-bf8a-f393d5c055fd\">\n",
              "    <style>\n",
              "      .colab-df-generate {\n",
              "        background-color: #E8F0FE;\n",
              "        border: none;\n",
              "        border-radius: 50%;\n",
              "        cursor: pointer;\n",
              "        display: none;\n",
              "        fill: #1967D2;\n",
              "        height: 32px;\n",
              "        padding: 0 0 0 0;\n",
              "        width: 32px;\n",
              "      }\n",
              "\n",
              "      .colab-df-generate:hover {\n",
              "        background-color: #E2EBFA;\n",
              "        box-shadow: 0px 1px 2px rgba(60, 64, 67, 0.3), 0px 1px 3px 1px rgba(60, 64, 67, 0.15);\n",
              "        fill: #174EA6;\n",
              "      }\n",
              "\n",
              "      [theme=dark] .colab-df-generate {\n",
              "        background-color: #3B4455;\n",
              "        fill: #D2E3FC;\n",
              "      }\n",
              "\n",
              "      [theme=dark] .colab-df-generate:hover {\n",
              "        background-color: #434B5C;\n",
              "        box-shadow: 0px 1px 3px 1px rgba(0, 0, 0, 0.15);\n",
              "        filter: drop-shadow(0px 1px 2px rgba(0, 0, 0, 0.3));\n",
              "        fill: #FFFFFF;\n",
              "      }\n",
              "    </style>\n",
              "    <button class=\"colab-df-generate\" onclick=\"generateWithVariable('dataset')\"\n",
              "            title=\"Generate code using this dataframe.\"\n",
              "            style=\"display:none;\">\n",
              "\n",
              "  <svg xmlns=\"http://www.w3.org/2000/svg\" height=\"24px\"viewBox=\"0 0 24 24\"\n",
              "       width=\"24px\">\n",
              "    <path d=\"M7,19H8.4L18.45,9,17,7.55,7,17.6ZM5,21V16.75L18.45,3.32a2,2,0,0,1,2.83,0l1.4,1.43a1.91,1.91,0,0,1,.58,1.4,1.91,1.91,0,0,1-.58,1.4L9.25,21ZM18.45,9,17,7.55Zm-12,3A5.31,5.31,0,0,0,4.9,8.1,5.31,5.31,0,0,0,1,6.5,5.31,5.31,0,0,0,4.9,4.9,5.31,5.31,0,0,0,6.5,1,5.31,5.31,0,0,0,8.1,4.9,5.31,5.31,0,0,0,12,6.5,5.46,5.46,0,0,0,6.5,12Z\"/>\n",
              "  </svg>\n",
              "    </button>\n",
              "    <script>\n",
              "      (() => {\n",
              "      const buttonEl =\n",
              "        document.querySelector('#id_43b587ba-49d1-456e-bf8a-f393d5c055fd button.colab-df-generate');\n",
              "      buttonEl.style.display =\n",
              "        google.colab.kernel.accessAllowed ? 'block' : 'none';\n",
              "\n",
              "      buttonEl.onclick = () => {\n",
              "        google.colab.notebook.generateWithVariable('dataset');\n",
              "      }\n",
              "      })();\n",
              "    </script>\n",
              "  </div>\n",
              "\n",
              "    </div>\n",
              "  </div>\n"
            ]
          },
          "metadata": {},
          "execution_count": 26
        }
      ]
    }
  ]
}